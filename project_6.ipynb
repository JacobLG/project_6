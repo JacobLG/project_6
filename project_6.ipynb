{
 "cells": [
  {
   "cell_type": "code",
   "execution_count": 1,
   "metadata": {
    "ExecuteTime": {
     "end_time": "2020-12-11T16:10:26.153734Z",
     "start_time": "2020-12-11T16:09:41.963126Z"
    }
   },
   "outputs": [],
   "source": [
    "import matplotlib.pyplot as plt\n",
    "import numpy as np\n",
    "import pandas as pd\n",
    "from sklearn.metrics import precision_score, recall_score, roc_auc_score, plot_roc_curve\n",
    "import warnings\n",
    "warnings.simplefilter(\"ignore\")\n",
    "from sklearn.preprocessing import StandardScaler\n",
    "from lightgbm import LGBMClassifier\n",
    "from sklearn.model_selection import train_test_split\n",
    "from sklearn.impute import SimpleImputer, KNNImputer\n",
    "from sklearn.preprocessing import OrdinalEncoder, OneHotEncoder\n",
    "from sklearn.compose import ColumnTransformer\n",
    "from sklearn.pipeline import Pipeline"
   ]
  },
  {
   "cell_type": "code",
   "execution_count": 2,
   "metadata": {
    "ExecuteTime": {
     "end_time": "2020-12-11T16:10:26.182689Z",
     "start_time": "2020-12-11T16:10:26.169707Z"
    }
   },
   "outputs": [],
   "source": [
    "from sklearn.linear_model import LogisticRegression"
   ]
  },
  {
   "cell_type": "code",
   "execution_count": 3,
   "metadata": {
    "ExecuteTime": {
     "end_time": "2020-12-11T16:10:28.943411Z",
     "start_time": "2020-12-11T16:10:26.190686Z"
    }
   },
   "outputs": [],
   "source": [
    "# Sources\n",
    "\n",
    "rain = pd.read_csv('rain_data_aus.csv')\n",
    "\n",
    "wind_table_01 = pd.read_csv('wind_table_01.csv')\n",
    "wind_table_02 = pd.read_csv('wind_table_02.csv')\n",
    "wind_table_03 = pd.read_csv('wind_table_03.csv')\n",
    "wind_table_04 = pd.read_csv('wind_table_04.csv')\n",
    "wind_table_05 = pd.read_csv('wind_table_05.csv')\n",
    "wind_table_06 = pd.read_csv('wind_table_06.csv')\n",
    "wind_table_07 = pd.read_csv('wind_table_07.csv')\n",
    "wind_table_08 = pd.read_csv('wind_table_08.csv')\n",
    "\n",
    "cities = list(rain['location'].unique())"
   ]
  },
  {
   "cell_type": "code",
   "execution_count": 4,
   "metadata": {
    "ExecuteTime": {
     "end_time": "2020-12-11T16:10:28.983384Z",
     "start_time": "2020-12-11T16:10:28.947408Z"
    }
   },
   "outputs": [],
   "source": [
    "# Categorical pipeline components\n",
    "\n",
    "categorical_imputer = SimpleImputer(strategy='most_frequent')\n",
    "onehotencoder = OneHotEncoder(drop='first',  handle_unknown='error')"
   ]
  },
  {
   "cell_type": "code",
   "execution_count": 5,
   "metadata": {
    "ExecuteTime": {
     "end_time": "2020-12-11T16:10:29.207086Z",
     "start_time": "2020-12-11T16:10:28.988379Z"
    }
   },
   "outputs": [],
   "source": [
    "# Categorical pipeline\n",
    "\n",
    "categorical_pipeline = Pipeline(steps=[('missing', categorical_imputer),\n",
    "                                       ('encode', onehotencoder)])"
   ]
  },
  {
   "cell_type": "code",
   "execution_count": 6,
   "metadata": {
    "ExecuteTime": {
     "end_time": "2020-12-11T16:10:29.397096Z",
     "start_time": "2020-12-11T16:10:29.211087Z"
    }
   },
   "outputs": [],
   "source": [
    "# Numerical pipeline components\n",
    "\n",
    "numerical_imputer_knn = KNNImputer()"
   ]
  },
  {
   "cell_type": "code",
   "execution_count": 7,
   "metadata": {
    "ExecuteTime": {
     "end_time": "2020-12-11T16:10:29.509151Z",
     "start_time": "2020-12-11T16:10:29.403094Z"
    }
   },
   "outputs": [],
   "source": [
    "# Numerical pipeline\n",
    "\n",
    "numerical_pipeline = Pipeline(steps=[('missing', numerical_imputer_knn)])"
   ]
  },
  {
   "cell_type": "code",
   "execution_count": 8,
   "metadata": {
    "ExecuteTime": {
     "end_time": "2020-12-11T16:10:29.663809Z",
     "start_time": "2020-12-11T16:10:29.522139Z"
    }
   },
   "outputs": [],
   "source": [
    "# Model\n",
    "\n",
    "scaler = StandardScaler()\n",
    "model_lgbm = LGBMClassifier()"
   ]
  },
  {
   "cell_type": "code",
   "execution_count": 18,
   "metadata": {
    "ExecuteTime": {
     "end_time": "2020-12-11T18:46:58.054391Z",
     "start_time": "2020-12-11T18:44:46.697717Z"
    },
    "scrolled": true
   },
   "outputs": [
    {
     "name": "stdout",
     "output_type": "stream",
     "text": [
      "Albury\n",
      "0.8847457627118644\n",
      "0.6475409836065574\n",
      "0.7596153846153846\n",
      "BadgerysCreek\n",
      "0.8865619546247818\n",
      "0.5398230088495575\n",
      "0.8243243243243243\n",
      "Cobar\n",
      "0.9111111111111111\n",
      "0.5769230769230769\n",
      "0.703125\n",
      "CoffsHarbour\n",
      "0.8364888123924269\n",
      "0.621301775147929\n",
      "0.7720588235294118\n",
      "Moree\n",
      "0.925531914893617\n",
      "0.620253164556962\n",
      "0.8032786885245902\n",
      "Newcastle\n",
      "0.7772020725388601\n",
      "0.34965034965034963\n",
      "0.5813953488372093\n",
      "NorahHead\n",
      "0.8249566724436742\n",
      "0.5345911949685535\n",
      "0.7589285714285714\n",
      "NorfolkIsland\n",
      "0.8052173913043478\n",
      "0.5722222222222222\n",
      "0.7463768115942029\n",
      "Penrith\n",
      "0.8605851979345955\n",
      "0.5\n",
      "0.7037037037037037\n",
      "Richmond\n",
      "0.8862068965517241\n",
      "0.5454545454545454\n",
      "0.7894736842105263\n",
      "Sydney\n",
      "0.846749226006192\n",
      "0.6011904761904762\n",
      "0.7593984962406015\n",
      "SydneyAirport\n",
      "0.8115449915110357\n",
      "0.47019867549668876\n",
      "0.696078431372549\n",
      "WaggaWagga\n",
      "0.9032815198618307\n",
      "0.5981308411214953\n",
      "0.8311688311688312\n",
      "Williamtown\n",
      "0.8070866141732284\n",
      "0.5179856115107914\n",
      "0.6990291262135923\n",
      "Wollongong\n",
      "0.833904109589041\n",
      "0.4492753623188406\n",
      "0.7469879518072289\n",
      "Canberra\n",
      "0.8831562974203339\n",
      "0.5327868852459017\n",
      "0.7647058823529411\n",
      "Tuggeranong\n",
      "0.891156462585034\n",
      "0.6106194690265486\n",
      "0.7752808988764045\n",
      "MountGinini\n",
      "0.837696335078534\n",
      "0.6296296296296297\n",
      "0.7555555555555555\n",
      "Ballarat\n",
      "0.8903878583473862\n",
      "0.7161290322580646\n",
      "0.8409090909090909\n",
      "Bendigo\n",
      "0.8804713804713805\n",
      "0.6106194690265486\n",
      "0.71875\n",
      "Sale\n",
      "0.8299319727891157\n",
      "0.4838709677419355\n",
      "0.625\n",
      "MelbourneAirport\n",
      "0.8338983050847457\n",
      "0.5153846153846153\n",
      "0.6568627450980392\n",
      "Melbourne\n",
      "0.8251028806584362\n",
      "0.5703125\n",
      "0.7087378640776699\n",
      "Mildura\n",
      "0.9338983050847458\n",
      "0.5230769230769231\n",
      "0.8095238095238095\n",
      "Nhil\n",
      "0.9017341040462428\n",
      "0.5636363636363636\n",
      "0.7560975609756098\n",
      "Portland\n",
      "0.7925170068027211\n",
      "0.6774193548387096\n",
      "0.7386934673366834\n",
      "Watsonia\n",
      "0.8401360544217688\n",
      "0.6275862068965518\n",
      "0.6946564885496184\n",
      "Dartmoor\n",
      "0.8566493955094991\n",
      "0.7158469945355191\n",
      "0.808641975308642\n",
      "Brisbane\n",
      "0.8796747967479674\n",
      "0.6222222222222222\n",
      "0.7850467289719626\n",
      "Cairns\n",
      "0.8290155440414507\n",
      "0.6774193548387096\n",
      "0.7636363636363637\n",
      "GoldCoast\n",
      "0.8316151202749141\n",
      "0.5608108108108109\n",
      "0.7155172413793104\n",
      "Townsville\n",
      "0.8988195615514334\n",
      "0.63\n",
      "0.7325581395348837\n",
      "Adelaide\n",
      "0.8956953642384106\n",
      "0.7185185185185186\n",
      "0.7950819672131147\n",
      "MountGambier\n",
      "0.8496621621621622\n",
      "0.6885245901639344\n",
      "0.7974683544303798\n",
      "Nuriootpa\n",
      "0.8930390492359932\n",
      "0.6583333333333333\n",
      "0.7821782178217822\n",
      "Woomera\n",
      "0.9538461538461539\n",
      "0.525\n",
      "0.7241379310344828\n",
      "Albany\n",
      "0.801358234295416\n",
      "0.553072625698324\n",
      "0.7279411764705882\n",
      "Witchcliffe\n",
      "0.8775862068965518\n",
      "0.7727272727272727\n",
      "0.8143712574850299\n",
      "PearceRAAF\n",
      "0.9012797074954296\n",
      "0.6862745098039216\n",
      "0.7608695652173914\n",
      "PerthAirport\n",
      "0.9220338983050848\n",
      "0.7876106194690266\n",
      "0.8018018018018018\n",
      "Perth\n",
      "0.9067524115755627\n",
      "0.6821705426356589\n",
      "0.8380952380952381\n",
      "SalmonGums\n",
      "0.8795180722891566\n",
      "0.425531914893617\n",
      "0.7142857142857143\n",
      "Walpole\n",
      "0.8453237410071942\n",
      "0.703125\n",
      "0.823170731707317\n",
      "Hobart\n",
      "0.8470209339774557\n",
      "0.5838926174496645\n",
      "0.725\n",
      "Launceston\n",
      "0.863406408094435\n",
      "0.5869565217391305\n",
      "0.7714285714285715\n",
      "AliceSprings\n",
      "0.9494097807757167\n",
      "0.5416666666666666\n",
      "0.7647058823529411\n",
      "Darwin\n",
      "0.855072463768116\n",
      "0.7065868263473054\n",
      "0.7421383647798742\n",
      "Katherine\n",
      "0.8918128654970761\n",
      "0.6440677966101694\n",
      "0.7037037037037037\n",
      "Uluru\n",
      "0.9347181008902077\n",
      "0.42857142857142855\n",
      "0.6666666666666666\n",
      "0.8674402282227378\n"
     ]
    }
   ],
   "source": [
    "prediction_r = []\n",
    "score_r =[]\n",
    "\n",
    "cities_up = []\n",
    "up_score = []\n",
    "up_recall = []\n",
    "up_precision = []\n",
    "\n",
    "cities_inter = []\n",
    "inter_score = []\n",
    "inter_recall = []\n",
    "inter_precision = []\n",
    "\n",
    "\n",
    "cities_under = []\n",
    "under_score = []\n",
    "under_recall = []\n",
    "under_precision = []\n",
    "\n",
    "for i in cities:\n",
    "    \n",
    "    trial_r = rain[rain['location'] == i][['date', 'humidity3pm', 'humidity9am', 'pressure3pm', 'pressure9am', 'temp3pm', 'temp9am', 'raintomorrow']]\n",
    "    \n",
    "    \n",
    "    trial_w = wind_table_01[wind_table_01['location'] == i]\n",
    "    trial_w = trial_w.append(wind_table_02[wind_table_02['location'] == i])\n",
    "    trial_w = trial_w.append(wind_table_03[wind_table_03['location'] == i])\n",
    "    trial_w = trial_w.append(wind_table_04[wind_table_04['location'] == i])\n",
    "    trial_w = trial_w.append(wind_table_05[wind_table_05['location'] == i])\n",
    "    trial_w = trial_w.append(wind_table_06[wind_table_06['location'] == i])\n",
    "    trial_w = trial_w.append(wind_table_07[wind_table_07['location'] == i])\n",
    "    trial_w = trial_w.append(wind_table_08[wind_table_08['location'] == i])\n",
    "    \n",
    "    \n",
    "    trial_c = trial_r.merge(trial_w, left_on='date', right_on='date')\n",
    "    \n",
    "    \n",
    "    \n",
    "    \n",
    "    X = trial_c[['humidity3pm', 'humidity9am', 'pressure3pm', 'pressure9am', 'temp3pm', 'temp9am', 'wind_speed9am', 'windspeed9am',\n",
    "            'wind_speed3pm', 'windspeed3pm']]\n",
    "    y = trial_c['raintomorrow']\n",
    "                                      \n",
    "    X_train, X_test, y_train, y_test = train_test_split(X, y, test_size=0.15, stratify=y, random_state = 42)\n",
    "    X_train, X_valid, y_train, y_valid = train_test_split(X_train, y_train, test_size=0.20, stratify=y_train, random_state = 42)\n",
    "                                          \n",
    "    cat_columns = list(X_train.select_dtypes('object').columns)\n",
    "    num_columns = list(X_train.select_dtypes(exclude='object').columns)\n",
    "                                      \n",
    "    dataprep = ColumnTransformer(transformers=[('numerical_transform', numerical_pipeline, num_columns),\n",
    "                                                ('categ_transform', categorical_pipeline, cat_columns)])\n",
    "    \n",
    "    pipeline = Pipeline(steps=[('data', dataprep),\n",
    "                                ('scaler', StandardScaler()),\n",
    "                                ('model', model_lgbm)])\n",
    "                                      \n",
    "    pipeline.fit(X_train, y_train)\n",
    "                                      \n",
    "    prediction_v = pipeline.predict(X_valid)\n",
    "    \n",
    "    \n",
    "    score_v = pipeline.score(X_valid, y_valid)\n",
    "    recall_v = recall_score(y_valid == 'Yes', pipeline.predict(X_valid) == 'Yes')\n",
    "    precision_v = precision_score(y_valid == 'Yes', pipeline.predict(X_valid) == 'Yes')\n",
    "    \n",
    "    \n",
    "    if score_v < 0.85:\n",
    "        \n",
    "        cities_under.append(i)\n",
    "        under_score.append(score_v)\n",
    "        under_recall.append(recall_v)\n",
    "        under_precision.append(precision_v)\n",
    "        \n",
    "        \n",
    "    elif (score_v > 0.85)&(score_v < 0.90):\n",
    "        \n",
    "        cities_inter.append(i)\n",
    "        inter_score.append(score_v)\n",
    "        inter_recall.append(recall_v)\n",
    "        inter_precision.append(precision_v)\n",
    "        \n",
    "        \n",
    "    else:\n",
    "        \n",
    "        cities_up.append(i)\n",
    "        up_score.append(score_v)\n",
    "        up_recall.append(recall_v)\n",
    "        up_precision.append(precision_v)\n",
    "\n",
    "    \n",
    "    print(i)\n",
    "    print(score_v)\n",
    "    print(recall_v)\n",
    "    print(precision_v)\n",
    "    \n",
    "    score_r.append(score_v)\n",
    "    \n",
    "print(sum(score_r)/len(score_r))\n"
   ]
  },
  {
   "cell_type": "code",
   "execution_count": 10,
   "metadata": {
    "ExecuteTime": {
     "end_time": "2020-12-11T16:12:25.355986Z",
     "start_time": "2020-12-11T16:12:25.346991Z"
    }
   },
   "outputs": [],
   "source": [
    "# Evaluation\n",
    "\n",
    "zip_under = zip(cities_under, under_score)\n",
    "dict_under = dict(zip_under)\n",
    "\n",
    "zip_inter = zip(cities_inter, inter_score)\n",
    "dict_inter = dict(zip_inter)\n",
    "\n",
    "zip_up = zip(cities_up, up_score)\n",
    "dict_up = dict(zip_up)"
   ]
  },
  {
   "cell_type": "code",
   "execution_count": 11,
   "metadata": {
    "ExecuteTime": {
     "end_time": "2020-12-11T16:12:25.547982Z",
     "start_time": "2020-12-11T16:12:25.363981Z"
    }
   },
   "outputs": [],
   "source": [
    "data_under = pd.DataFrame()\n",
    "data_inter = pd.DataFrame()\n",
    "data_up = pd.DataFrame()"
   ]
  },
  {
   "cell_type": "code",
   "execution_count": 12,
   "metadata": {
    "ExecuteTime": {
     "end_time": "2020-12-11T16:12:25.765778Z",
     "start_time": "2020-12-11T16:12:25.551972Z"
    }
   },
   "outputs": [],
   "source": [
    "data_under[['cities','score', 'recall', 'precision', 'label' ]] = [dict_under.keys(), dict_under.values(), under_recall, under_precision,  1]\n",
    "\n",
    "data_inter[['cities','score', 'recall', 'precision', 'label' ]] = [dict_inter.keys(), dict_inter.values(), inter_recall, inter_precision,  2]\n",
    "\n",
    "data_up[['cities','score', 'recall', 'precision', 'label' ]] = [dict_up.keys(), dict_up.values(), up_recall, up_precision,  3]"
   ]
  },
  {
   "cell_type": "code",
   "execution_count": 13,
   "metadata": {
    "ExecuteTime": {
     "end_time": "2020-12-11T16:12:25.934622Z",
     "start_time": "2020-12-11T16:12:25.769770Z"
    }
   },
   "outputs": [],
   "source": [
    "data_ev = data_under.append(data_inter, ignore_index = True)\n",
    "data_ev = data_ev.append(data_up, ignore_index = True)"
   ]
  },
  {
   "cell_type": "code",
   "execution_count": 14,
   "metadata": {
    "ExecuteTime": {
     "end_time": "2020-12-11T16:12:26.249755Z",
     "start_time": "2020-12-11T16:12:25.940619Z"
    }
   },
   "outputs": [],
   "source": [
    "data_ev.to_csv('data_ev.csv', index = False)"
   ]
  },
  {
   "cell_type": "code",
   "execution_count": 21,
   "metadata": {
    "ExecuteTime": {
     "end_time": "2020-12-11T18:57:38.066260Z",
     "start_time": "2020-12-11T18:57:33.390962Z"
    }
   },
   "outputs": [],
   "source": [
    "import seaborn as sns"
   ]
  },
  {
   "cell_type": "code",
   "execution_count": 31,
   "metadata": {
    "ExecuteTime": {
     "end_time": "2020-12-11T19:01:35.465820Z",
     "start_time": "2020-12-11T19:01:34.419946Z"
    }
   },
   "outputs": [
    {
     "data": {
      "text/plain": [
       "<matplotlib.axes._subplots.AxesSubplot at 0x1b769161790>"
      ]
     },
     "execution_count": 31,
     "metadata": {},
     "output_type": "execute_result"
    },
    {
     "data": {
      "image/png": "[encoded data removed]",
      "text/plain": [
       "<Figure size 432x288 with 1 Axes>"
      ]
     },
     "metadata": {
      "needs_background": "light"
     },
     "output_type": "display_data"
    }
   ],
   "source": [
    "sns.distplot(wind_table_01['wind_speed9am'])"
   ]
  }
 ],
 "metadata": {
  "kernelspec": {
   "display_name": "Python 3",
   "language": "python",
   "name": "python3"
  },
  "language_info": {
   "codemirror_mode": {
    "name": "ipython",
    "version": 3
   },
   "file_extension": ".py",
   "mimetype": "text/x-python",
   "name": "python",
   "nbconvert_exporter": "python",
   "pygments_lexer": "ipython3",
   "version": "3.8.3"
  }
 },
 "nbformat": 4,
 "nbformat_minor": 4
}
