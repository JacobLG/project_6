{
 "cells": [
  {
   "cell_type": "code",
   "execution_count": 1,
   "metadata": {
    "ExecuteTime": {
     "end_time": "2020-12-10T20:20:00.038120Z",
     "start_time": "2020-12-10T20:19:37.918349Z"
    }
   },
   "outputs": [],
   "source": [
    "import matplotlib.pyplot as plt\n",
    "import numpy as np\n",
    "import pandas as pd\n",
    "from sklearn.metrics import precision_score, recall_score, roc_auc_score, plot_roc_curve\n",
    "import warnings\n",
    "warnings.simplefilter(\"ignore\")\n",
    "from sklearn.preprocessing import StandardScaler\n",
    "from lightgbm import LGBMClassifier\n",
    "from sklearn.model_selection import train_test_split\n",
    "from sklearn.impute import SimpleImputer, KNNImputer\n",
    "from sklearn.preprocessing import OrdinalEncoder, OneHotEncoder\n",
    "from sklearn.compose import ColumnTransformer\n",
    "from sklearn.pipeline import Pipeline"
   ]
  },
  {
   "cell_type": "code",
   "execution_count": 2,
   "metadata": {
    "ExecuteTime": {
     "end_time": "2020-12-10T20:20:00.048114Z",
     "start_time": "2020-12-10T20:20:00.042116Z"
    }
   },
   "outputs": [],
   "source": [
    "from sklearn.linear_model import LogisticRegression"
   ]
  },
  {
   "cell_type": "code",
   "execution_count": 3,
   "metadata": {
    "ExecuteTime": {
     "end_time": "2020-12-10T20:20:01.453225Z",
     "start_time": "2020-12-10T20:20:00.056108Z"
    }
   },
   "outputs": [],
   "source": [
    "# Source\n",
    "\n",
    "rain = pd.read_csv('rain_data_aus.csv')\n",
    "wind_table_01 = pd.read_csv('wind_table_01.csv')"
   ]
  },
  {
   "cell_type": "code",
   "execution_count": 4,
   "metadata": {
    "ExecuteTime": {
     "end_time": "2020-12-10T20:20:01.486205Z",
     "start_time": "2020-12-10T20:20:01.459221Z"
    }
   },
   "outputs": [
    {
     "data": {
      "text/plain": [
       "Index(['date', 'location', 'mintemp', 'maxtemp', 'rainfall', 'evaporation',\n",
       "       'sunshine', 'humidity9am', 'humidity3pm', 'pressure9am', 'pressure3pm',\n",
       "       'cloud9am', 'cloud3pm', 'temp9am', 'temp3pm', 'raintoday',\n",
       "       'amountOfRain', 'raintomorrow', 'temp', 'humidity', 'precipitation3pm',\n",
       "       'precipitation9am', 'modelo_vigente'],\n",
       "      dtype='object')"
      ]
     },
     "execution_count": 4,
     "metadata": {},
     "output_type": "execute_result"
    }
   ],
   "source": [
    "rain.columns"
   ]
  },
  {
   "cell_type": "code",
   "execution_count": 5,
   "metadata": {
    "ExecuteTime": {
     "end_time": "2020-12-10T20:20:01.607131Z",
     "start_time": "2020-12-10T20:20:01.507191Z"
    }
   },
   "outputs": [
    {
     "data": {
      "text/plain": [
       "\"\\n# Training\\n\\nX = rain[['rainfall', 'humidity3pm', 'pressure3pm', 'temp3pm', 'maxtemp']]\\ny = rain['raintomorrow']\\n\\n\""
      ]
     },
     "execution_count": 5,
     "metadata": {},
     "output_type": "execute_result"
    }
   ],
   "source": [
    "\n",
    "'''\n",
    "# Training\n",
    "\n",
    "X = rain[['rainfall', 'humidity3pm', 'pressure3pm', 'temp3pm', 'maxtemp']]\n",
    "y = rain['raintomorrow']\n",
    "\n",
    "'''\n"
   ]
  },
  {
   "cell_type": "code",
   "execution_count": 6,
   "metadata": {
    "ExecuteTime": {
     "end_time": "2020-12-10T20:20:01.727056Z",
     "start_time": "2020-12-10T20:20:01.613126Z"
    }
   },
   "outputs": [
    {
     "data": {
      "text/plain": [
       "'\\nX_train, X_test, y_train, y_test = train_test_split(X, y, test_size=0.15, stratify=y)\\n'"
      ]
     },
     "execution_count": 6,
     "metadata": {},
     "output_type": "execute_result"
    }
   ],
   "source": [
    "\n",
    "\n",
    "'''\n",
    "X_train, X_test, y_train, y_test = train_test_split(X, y, test_size=0.15, stratify=y)\n",
    "'''\n"
   ]
  },
  {
   "cell_type": "code",
   "execution_count": 7,
   "metadata": {
    "ExecuteTime": {
     "end_time": "2020-12-10T20:20:01.867970Z",
     "start_time": "2020-12-10T20:20:01.734052Z"
    }
   },
   "outputs": [
    {
     "data": {
      "text/plain": [
       "'\\nX_train, X_valid, y_train, y_valid = train_test_split(X_train, y_train, test_size=0.15, stratify=y_train)\\n'"
      ]
     },
     "execution_count": 7,
     "metadata": {},
     "output_type": "execute_result"
    }
   ],
   "source": [
    "\n",
    "'''\n",
    "X_train, X_valid, y_train, y_valid = train_test_split(X_train, y_train, test_size=0.15, stratify=y_train)\n",
    "'''\n"
   ]
  },
  {
   "cell_type": "code",
   "execution_count": 8,
   "metadata": {
    "ExecuteTime": {
     "end_time": "2020-12-10T20:20:01.983898Z",
     "start_time": "2020-12-10T20:20:01.889956Z"
    }
   },
   "outputs": [
    {
     "data": {
      "text/plain": [
       "\"\\n# Classification\\n\\ncat_columns = list(X_train.select_dtypes('object').columns)\\nnum_columns = list(X_train.select_dtypes(exclude='object').columns)\\n\""
      ]
     },
     "execution_count": 8,
     "metadata": {},
     "output_type": "execute_result"
    }
   ],
   "source": [
    "\n",
    "'''\n",
    "# Classification\n",
    "\n",
    "cat_columns = list(X_train.select_dtypes('object').columns)\n",
    "num_columns = list(X_train.select_dtypes(exclude='object').columns)\n",
    "'''\n"
   ]
  },
  {
   "cell_type": "code",
   "execution_count": 9,
   "metadata": {
    "ExecuteTime": {
     "end_time": "2020-12-10T20:20:02.104824Z",
     "start_time": "2020-12-10T20:20:01.998892Z"
    }
   },
   "outputs": [],
   "source": [
    "# Categorical pipeline components\n",
    "\n",
    "categorical_imputer = SimpleImputer(strategy='most_frequent')\n",
    "onehotencoder = OneHotEncoder(drop='first',  handle_unknown='error')"
   ]
  },
  {
   "cell_type": "code",
   "execution_count": 10,
   "metadata": {
    "ExecuteTime": {
     "end_time": "2020-12-10T20:20:02.258729Z",
     "start_time": "2020-12-10T20:20:02.113819Z"
    }
   },
   "outputs": [],
   "source": [
    "# Categorical pipeline\n",
    "\n",
    "categorical_pipeline = Pipeline(steps=[('missing', categorical_imputer),\n",
    "                                       ('encode', onehotencoder)])"
   ]
  },
  {
   "cell_type": "code",
   "execution_count": 11,
   "metadata": {
    "ExecuteTime": {
     "end_time": "2020-12-10T20:20:02.420630Z",
     "start_time": "2020-12-10T20:20:02.265725Z"
    }
   },
   "outputs": [],
   "source": [
    "# Numerical pipeline components\n",
    "\n",
    "numerical_imputer_knn = KNNImputer()"
   ]
  },
  {
   "cell_type": "code",
   "execution_count": 12,
   "metadata": {
    "ExecuteTime": {
     "end_time": "2020-12-10T20:20:02.607515Z",
     "start_time": "2020-12-10T20:20:02.427625Z"
    }
   },
   "outputs": [],
   "source": [
    "# Numerical pipeline\n",
    "\n",
    "numerical_pipeline = Pipeline(steps=[('missing', numerical_imputer_knn)])"
   ]
  },
  {
   "cell_type": "code",
   "execution_count": 13,
   "metadata": {
    "ExecuteTime": {
     "end_time": "2020-12-10T20:20:02.778410Z",
     "start_time": "2020-12-10T20:20:02.614511Z"
    }
   },
   "outputs": [
    {
     "data": {
      "text/plain": [
       "\"\\ndataprep = ColumnTransformer(transformers=[('numerical_transform', numerical_pipeline, num_columns),\\n                                           ('categ_transform', categorical_pipeline, cat_columns)])\""
      ]
     },
     "execution_count": 13,
     "metadata": {},
     "output_type": "execute_result"
    }
   ],
   "source": [
    "# Columns transform\n",
    "'''\n",
    "dataprep = ColumnTransformer(transformers=[('numerical_transform', numerical_pipeline, num_columns),\n",
    "                                           ('categ_transform', categorical_pipeline, cat_columns)])'''"
   ]
  },
  {
   "cell_type": "code",
   "execution_count": 14,
   "metadata": {
    "ExecuteTime": {
     "end_time": "2020-12-10T20:20:02.994279Z",
     "start_time": "2020-12-10T20:20:02.784407Z"
    }
   },
   "outputs": [
    {
     "data": {
      "text/plain": [
       "\"\\n\\npipeline = Pipeline(steps=[('data', dataprep),\\n                           ('scaler', StandardScaler()),\\n                           ('model', model_lgbm)])\\n                           \\n\""
      ]
     },
     "execution_count": 14,
     "metadata": {},
     "output_type": "execute_result"
    }
   ],
   "source": [
    "# Model\n",
    "\n",
    "scaler = StandardScaler()\n",
    "model_lgbm = LGBMClassifier()\n",
    "\n",
    "'''\n",
    "\n",
    "pipeline = Pipeline(steps=[('data', dataprep),\n",
    "                           ('scaler', StandardScaler()),\n",
    "                           ('model', model_lgbm)])\n",
    "                           \n",
    "'''"
   ]
  },
  {
   "cell_type": "code",
   "execution_count": 15,
   "metadata": {
    "ExecuteTime": {
     "end_time": "2020-12-10T20:20:03.044248Z",
     "start_time": "2020-12-10T20:20:03.001275Z"
    }
   },
   "outputs": [],
   "source": [
    "cities = rain['location'].unique()"
   ]
  },
  {
   "cell_type": "code",
   "execution_count": 16,
   "metadata": {
    "ExecuteTime": {
     "end_time": "2020-12-10T20:20:03.194156Z",
     "start_time": "2020-12-10T20:20:03.051244Z"
    }
   },
   "outputs": [],
   "source": [
    "cities = list(rain['location'].unique())"
   ]
  },
  {
   "cell_type": "code",
   "execution_count": 45,
   "metadata": {
    "ExecuteTime": {
     "end_time": "2020-12-10T20:37:01.219958Z",
     "start_time": "2020-12-10T20:36:36.298581Z"
    }
   },
   "outputs": [
    {
     "name": "stdout",
     "output_type": "stream",
     "text": [
      "Albury\n",
      "humidity3pm    0.001328\n",
      "humidity9am    0.001328\n",
      "pressure3pm    0.001328\n",
      "pressure9am    0.000000\n",
      "temp3pm        0.001328\n",
      "temp9am        0.001328\n",
      "dtype: float64\n",
      "0.8515625\n",
      "BadgerysCreek\n",
      "humidity3pm    0.010587\n",
      "humidity9am    0.009904\n",
      "pressure3pm    0.050546\n",
      "pressure9am    0.048839\n",
      "temp3pm        0.006831\n",
      "temp9am        0.005464\n",
      "dtype: float64\n",
      "0.8293172690763052\n",
      "Cobar\n",
      "humidity3pm    0.038487\n",
      "humidity9am    0.038153\n",
      "pressure3pm    0.008367\n",
      "pressure9am    0.009036\n",
      "temp3pm        0.002008\n",
      "temp9am        0.002008\n",
      "dtype: float64\n",
      "0.889763779527559\n",
      "CoffsHarbour\n",
      "humidity3pm    0.004064\n",
      "humidity9am    0.002370\n",
      "pressure3pm    0.090078\n",
      "pressure9am    0.089739\n",
      "temp3pm        0.001355\n",
      "temp9am        0.001016\n",
      "dtype: float64\n",
      "0.8127490039840638\n",
      "Moree\n",
      "humidity3pm    0.001752\n",
      "humidity9am    0.001402\n",
      "pressure3pm    0.000350\n",
      "pressure9am    0.000000\n",
      "temp3pm        0.000000\n",
      "temp9am        0.000000\n",
      "dtype: float64\n",
      "0.8969072164948454\n",
      "Newcastle\n",
      "humidity3pm    0.292724\n",
      "humidity9am    0.060914\n",
      "pressure3pm    1.000000\n",
      "pressure9am    1.000000\n",
      "temp3pm        0.290694\n",
      "temp9am        0.059222\n",
      "dtype: float64\n",
      "0.7654075546719682\n",
      "NorahHead\n",
      "humidity3pm    0.004780\n",
      "humidity9am    0.005804\n",
      "pressure3pm    0.002731\n",
      "pressure9am    0.004097\n",
      "temp3pm        0.004438\n",
      "temp9am        0.005804\n",
      "dtype: float64\n",
      "0.7931726907630522\n",
      "NorfolkIsland\n",
      "humidity3pm    0.000675\n",
      "humidity9am    0.001687\n",
      "pressure3pm    0.000675\n",
      "pressure9am    0.002699\n",
      "temp3pm        0.000675\n",
      "temp9am        0.001687\n",
      "dtype: float64\n",
      "0.746031746031746\n",
      "Penrith\n",
      "humidity3pm    0.019568\n",
      "humidity9am    0.025304\n",
      "pressure3pm    1.000000\n",
      "pressure9am    1.000000\n",
      "temp3pm        0.003374\n",
      "temp9am        0.006410\n",
      "dtype: float64\n",
      "0.8650793650793651\n",
      "Richmond\n",
      "humidity3pm    0.015588\n",
      "humidity9am    0.016266\n",
      "pressure3pm    0.007794\n",
      "pressure9am    0.006777\n",
      "temp3pm        0.009488\n",
      "temp9am        0.009827\n",
      "dtype: float64\n",
      "0.8725099601593626\n",
      "Sydney\n",
      "humidity3pm    0.003896\n",
      "humidity9am    0.004195\n",
      "pressure3pm    0.005694\n",
      "pressure9am    0.005993\n",
      "temp3pm        0.001199\n",
      "temp9am        0.001199\n",
      "dtype: float64\n",
      "0.8309859154929577\n",
      "SydneyAirport\n",
      "humidity3pm    0.001331\n",
      "humidity9am    0.000666\n",
      "pressure3pm    0.000998\n",
      "pressure9am    0.002662\n",
      "temp3pm        0.000333\n",
      "temp9am        0.000333\n",
      "dtype: float64\n",
      "0.8238747553816047\n",
      "WaggaWagga\n",
      "humidity3pm    0.000000\n",
      "humidity9am    0.001008\n",
      "pressure3pm    0.000000\n",
      "pressure9am    0.000000\n",
      "temp3pm        0.000000\n",
      "temp9am        0.000000\n",
      "dtype: float64\n",
      "0.8715415019762845\n",
      "Williamtown\n",
      "humidity3pm    0.002742\n",
      "humidity9am    0.002742\n",
      "pressure3pm    0.003525\n",
      "pressure9am    0.003917\n",
      "temp3pm        0.000783\n",
      "temp9am        0.001567\n",
      "dtype: float64\n",
      "0.771889400921659\n",
      "Wollongong\n",
      "humidity3pm    0.006034\n",
      "humidity9am    0.007375\n",
      "pressure3pm    0.006369\n",
      "pressure9am    0.016762\n",
      "temp3pm        0.005699\n",
      "temp9am        0.007375\n",
      "dtype: float64\n",
      "0.8205128205128205\n",
      "Canberra\n",
      "humidity3pm    0.003511\n",
      "humidity9am    0.017847\n",
      "pressure3pm    0.064365\n",
      "pressure9am    0.065535\n",
      "temp3pm        0.002048\n",
      "temp9am        0.004974\n",
      "dtype: float64\n",
      "0.8502581755593803\n",
      "Tuggeranong\n",
      "humidity3pm    0.003669\n",
      "humidity9am    0.006671\n",
      "pressure3pm    0.003336\n",
      "pressure9am    0.005003\n",
      "temp3pm        0.003669\n",
      "temp9am        0.006671\n",
      "dtype: float64\n",
      "0.8450980392156863\n",
      "MountGinini\n",
      "humidity3pm    0.085999\n",
      "humidity9am    0.130375\n",
      "pressure3pm    1.000000\n",
      "pressure9am    1.000000\n",
      "temp3pm        0.080495\n",
      "temp9am        0.124527\n",
      "dtype: float64\n",
      "0.8238866396761133\n",
      "Ballarat\n",
      "humidity3pm    0.001982\n",
      "humidity9am    0.006935\n",
      "pressure3pm    0.007926\n",
      "pressure9am    0.007926\n",
      "temp3pm        0.001651\n",
      "temp9am        0.003963\n",
      "dtype: float64\n",
      "0.8446601941747572\n",
      "Bendigo\n",
      "humidity3pm    0.000330\n",
      "humidity9am    0.001648\n",
      "pressure3pm    0.002966\n",
      "pressure9am    0.004614\n",
      "temp3pm        0.000330\n",
      "temp9am        0.000659\n",
      "dtype: float64\n",
      "0.874031007751938\n",
      "Sale\n",
      "humidity3pm    0.005000\n",
      "humidity9am    0.006333\n",
      "pressure3pm    0.005000\n",
      "pressure9am    0.004667\n",
      "temp3pm        0.000333\n",
      "temp9am        0.000667\n",
      "dtype: float64\n",
      "0.8137254901960784\n",
      "MelbourneAirport\n",
      "humidity3pm    0.002991\n",
      "humidity9am    0.002659\n",
      "pressure3pm    0.000000\n",
      "pressure9am    0.000000\n",
      "temp3pm        0.000000\n",
      "temp9am        0.000000\n",
      "dtype: float64\n",
      "0.810546875\n",
      "Melbourne\n",
      "humidity3pm    0.002875\n",
      "humidity9am    0.001232\n",
      "pressure3pm    0.001232\n",
      "pressure9am    0.000411\n",
      "temp3pm        0.001643\n",
      "temp9am        0.000821\n",
      "dtype: float64\n",
      "0.7560386473429952\n",
      "Mildura\n",
      "humidity3pm    0.001330\n",
      "humidity9am    0.000998\n",
      "pressure3pm    0.000665\n",
      "pressure9am    0.001330\n",
      "temp3pm        0.000333\n",
      "temp9am        0.000333\n",
      "dtype: float64\n",
      "0.9354207436399217\n",
      "Nhil\n",
      "humidity3pm    0.0\n",
      "humidity9am    0.0\n",
      "pressure3pm    0.0\n",
      "pressure9am    0.0\n",
      "temp3pm        0.0\n",
      "temp9am        0.0\n",
      "dtype: float64\n",
      "0.8576779026217228\n",
      "Portland\n",
      "humidity3pm    0.004339\n",
      "humidity9am    0.016355\n",
      "pressure3pm    0.003338\n",
      "pressure9am    0.004005\n",
      "temp3pm        0.004005\n",
      "temp9am        0.016021\n",
      "dtype: float64\n",
      "0.7666666666666667\n",
      "Watsonia\n",
      "humidity3pm    0.000000\n",
      "humidity9am    0.004335\n",
      "pressure3pm    0.000000\n",
      "pressure9am    0.000000\n",
      "temp3pm        0.000000\n",
      "temp9am        0.004335\n",
      "dtype: float64\n",
      "0.8\n",
      "Dartmoor\n",
      "humidity3pm    0.055046\n",
      "humidity9am    0.056065\n",
      "pressure3pm    0.000680\n",
      "pressure9am    0.000340\n",
      "temp3pm        0.000340\n",
      "temp9am        0.000680\n",
      "dtype: float64\n",
      "0.8263473053892215\n",
      "Brisbane\n",
      "humidity3pm    0.002847\n",
      "humidity9am    0.000633\n",
      "pressure3pm    0.000633\n",
      "pressure9am    0.000000\n",
      "temp3pm        0.002847\n",
      "temp9am        0.000633\n",
      "dtype: float64\n",
      "0.828996282527881\n",
      "Cairns\n",
      "humidity3pm    0.0\n",
      "humidity9am    0.0\n",
      "pressure3pm    0.0\n",
      "pressure9am    0.0\n",
      "temp3pm        0.0\n",
      "temp9am        0.0\n",
      "dtype: float64\n",
      "0.8090551181102362\n",
      "GoldCoast\n",
      "humidity3pm    0.003356\n",
      "humidity9am    0.003356\n",
      "pressure3pm    0.000000\n",
      "pressure9am    0.000000\n",
      "temp3pm        0.000000\n",
      "temp9am        0.000000\n",
      "dtype: float64\n",
      "0.8106508875739645\n",
      "Townsville\n",
      "humidity3pm    0.0\n",
      "humidity9am    0.0\n",
      "pressure3pm    0.0\n",
      "pressure9am    0.0\n",
      "temp3pm        0.0\n",
      "temp9am        0.0\n",
      "dtype: float64\n",
      "0.8662790697674418\n",
      "Adelaide\n",
      "humidity3pm    0.001618\n",
      "humidity9am    0.001618\n",
      "pressure3pm    0.002265\n",
      "pressure9am    0.002589\n",
      "temp3pm        0.001294\n",
      "temp9am        0.001618\n",
      "dtype: float64\n",
      "0.8536121673003803\n",
      "MountGambier\n",
      "humidity3pm    0.00330\n",
      "humidity9am    0.00363\n",
      "pressure3pm    0.00165\n",
      "pressure9am    0.00033\n",
      "temp3pm        0.00165\n",
      "temp9am        0.00033\n",
      "dtype: float64\n",
      "0.8019417475728156\n",
      "Nuriootpa\n",
      "humidity3pm    0.004330\n",
      "humidity9am    0.003331\n",
      "pressure3pm    0.002665\n",
      "pressure9am    0.002332\n",
      "temp3pm        0.002332\n",
      "temp9am        0.001666\n",
      "dtype: float64\n",
      "0.8688845401174168\n",
      "Woomera\n",
      "humidity3pm    0.008696\n",
      "humidity9am    0.004348\n",
      "pressure3pm    0.004682\n",
      "pressure9am    0.003679\n",
      "temp3pm        0.001003\n",
      "temp9am        0.000334\n",
      "dtype: float64\n",
      "0.9351669941060904\n",
      "Albany\n",
      "humidity3pm    0.232095\n",
      "humidity9am    0.015252\n",
      "pressure3pm    0.007958\n",
      "pressure9am    0.008289\n",
      "temp3pm        0.230769\n",
      "temp9am        0.011936\n",
      "dtype: float64\n",
      "0.8089668615984406\n",
      "Witchcliffe\n",
      "humidity3pm    0.078930\n",
      "humidity9am    0.080962\n",
      "pressure3pm    0.044715\n",
      "pressure9am    0.045054\n",
      "temp3pm        0.000339\n",
      "temp9am        0.001016\n",
      "dtype: float64\n",
      "0.850597609561753\n",
      "PearceRAAF\n",
      "humidity3pm    0.008689\n",
      "humidity9am    0.006155\n",
      "pressure3pm    0.008689\n",
      "pressure9am    0.006517\n",
      "temp3pm        0.008327\n",
      "temp9am        0.005431\n",
      "dtype: float64\n",
      "0.8787234042553191\n",
      "PerthAirport\n",
      "humidity3pm    0.000332\n",
      "humidity9am    0.000000\n",
      "pressure3pm    0.000332\n",
      "pressure9am    0.000665\n",
      "temp3pm        0.000332\n",
      "temp9am        0.000000\n",
      "dtype: float64\n",
      "0.890625\n",
      "Perth\n",
      "humidity3pm    0.002505\n",
      "humidity9am    0.002819\n",
      "pressure3pm    0.000313\n",
      "pressure9am    0.000313\n",
      "temp3pm        0.000313\n",
      "temp9am        0.000000\n",
      "dtype: float64\n",
      "0.8968692449355433\n",
      "SalmonGums\n",
      "humidity3pm    0.001015\n",
      "humidity9am    0.000677\n",
      "pressure3pm    1.000000\n",
      "pressure9am    1.000000\n",
      "temp3pm        0.001015\n",
      "temp9am        0.000677\n",
      "dtype: float64\n",
      "0.8489065606361829\n",
      "Walpole\n",
      "humidity3pm    0.012061\n",
      "humidity9am    0.012416\n",
      "pressure3pm    0.000709\n",
      "pressure9am    0.000709\n",
      "temp3pm        0.000709\n",
      "temp9am        0.000709\n",
      "dtype: float64\n",
      "0.7770833333333333\n",
      "Hobart\n",
      "humidity3pm    0.004078\n",
      "humidity9am    0.003137\n",
      "pressure3pm    0.000314\n",
      "pressure9am    0.000314\n",
      "temp3pm        0.000627\n",
      "temp9am        0.000314\n",
      "dtype: float64\n",
      "0.7952029520295203\n",
      "Launceston\n",
      "humidity3pm    0.002312\n",
      "humidity9am    0.001321\n",
      "pressure3pm    0.378468\n",
      "pressure9am    0.378468\n",
      "temp3pm        0.002312\n",
      "temp9am        0.001321\n",
      "dtype: float64\n",
      "0.8116504854368932\n"
     ]
    },
    {
     "name": "stdout",
     "output_type": "stream",
     "text": [
      "AliceSprings\n",
      "humidity3pm    0.00165\n",
      "humidity9am    0.00099\n",
      "pressure3pm    0.00099\n",
      "pressure9am    0.00033\n",
      "temp3pm        0.00066\n",
      "temp9am        0.00000\n",
      "dtype: float64\n",
      "0.939922480620155\n",
      "Darwin\n",
      "humidity3pm    0.000627\n",
      "humidity9am    0.000313\n",
      "pressure3pm    0.000627\n",
      "pressure9am    0.000313\n",
      "temp3pm        0.000627\n",
      "temp9am        0.000000\n",
      "dtype: float64\n",
      "0.8324125230202578\n",
      "Katherine\n",
      "humidity3pm    0.527261\n",
      "humidity9am    0.049391\n",
      "pressure3pm    0.003207\n",
      "pressure9am    0.000641\n",
      "temp3pm        0.455420\n",
      "temp9am        0.024375\n",
      "dtype: float64\n",
      "0.8452830188679246\n",
      "Uluru\n",
      "humidity3pm    0.000657\n",
      "humidity9am    0.001972\n",
      "pressure3pm    0.000657\n",
      "pressure9am    0.001972\n",
      "temp3pm        0.000657\n",
      "temp9am        0.001972\n",
      "dtype: float64\n",
      "0.9382239382239382\n",
      "0.8394840283041541\n"
     ]
    }
   ],
   "source": [
    "prediction_r = []\n",
    "score_r =[]\n",
    "\n",
    "for i in cities:\n",
    "    \n",
    "    X = rain[(rain['location'] == i)][[ 'humidity3pm', 'humidity9am', 'pressure3pm', 'pressure9am', 'temp3pm', 'temp9am']]\n",
    "    y = rain[(rain['location'] == i)]['raintomorrow']\n",
    "                                      \n",
    "    X_train, X_test, y_train, y_test = train_test_split(X, y, test_size=0.15, stratify=y)\n",
    "    X_train, X_valid, y_train, y_valid = train_test_split(X_train, y_train, test_size=0.20, stratify=y_train)\n",
    "                                          \n",
    "    cat_columns = list(X_train.select_dtypes('object').columns)\n",
    "    num_columns = list(X_train.select_dtypes(exclude='object').columns)\n",
    "                                      \n",
    "    dataprep = ColumnTransformer(transformers=[('numerical_transform', numerical_pipeline, num_columns),\n",
    "                                               ('categ_transform', categorical_pipeline, cat_columns)])\n",
    "    \n",
    "    pipeline = Pipeline(steps=[('data', dataprep),\n",
    "                               ('scaler', StandardScaler()),\n",
    "                               ('model', model_lgbm)])\n",
    "                                      \n",
    "    pipeline.fit(X_train, y_train)\n",
    "                                      \n",
    "    prediction_v = pipeline.predict(X_valid)\n",
    "    prediction_r.append(prediction_v)\n",
    "    \n",
    "    score_v = pipeline.score(X_valid, y_valid)\n",
    "    print(i)\n",
    "    print(X.isna().mean())\n",
    "    print(score_v)\n",
    "    score_r.append(score_v)\n",
    "    \n",
    "print(sum(score_r)/len(score_r))   \n",
    "\n",
    "                                      \n",
    "    "
   ]
  },
  {
   "cell_type": "code",
   "execution_count": 18,
   "metadata": {
    "ExecuteTime": {
     "end_time": "2020-12-10T20:20:28.228105Z",
     "start_time": "2020-12-10T20:20:28.219112Z"
    }
   },
   "outputs": [
    {
     "name": "stdout",
     "output_type": "stream",
     "text": [
      "0.8356873478951429\n"
     ]
    }
   ],
   "source": [
    "print(sum(score_r)/len(score_r))"
   ]
  },
  {
   "cell_type": "code",
   "execution_count": 46,
   "metadata": {
    "ExecuteTime": {
     "end_time": "2020-12-10T20:38:00.914712Z",
     "start_time": "2020-12-10T20:38:00.866742Z"
    }
   },
   "outputs": [],
   "source": [
    "trial_r = rain[rain['location'] == 'NorfolkIsland'][['date', 'humidity3pm', 'humidity9am', 'pressure3pm', 'pressure9am', 'temp3pm', 'temp9am', 'raintomorrow']]"
   ]
  },
  {
   "cell_type": "code",
   "execution_count": 47,
   "metadata": {
    "ExecuteTime": {
     "end_time": "2020-12-10T20:38:02.181933Z",
     "start_time": "2020-12-10T20:38:01.696233Z"
    }
   },
   "outputs": [],
   "source": [
    "wind_table_02 = pd.read_csv('wind_table_02.csv')\n",
    "wind_table_03 = pd.read_csv('wind_table_03.csv')\n",
    "wind_table_04 = pd.read_csv('wind_table_04.csv')\n",
    "wind_table_05 = pd.read_csv('wind_table_05.csv')\n",
    "wind_table_06 = pd.read_csv('wind_table_06.csv')\n",
    "wind_table_07 = pd.read_csv('wind_table_07.csv')\n",
    "wind_table_08 = pd.read_csv('wind_table_08.csv')"
   ]
  },
  {
   "cell_type": "code",
   "execution_count": 48,
   "metadata": {
    "ExecuteTime": {
     "end_time": "2020-12-10T20:38:02.877506Z",
     "start_time": "2020-12-10T20:38:02.864514Z"
    }
   },
   "outputs": [],
   "source": [
    "trial_w = wind_table_01[wind_table_01['location'] == 'NorfolkIsland']"
   ]
  },
  {
   "cell_type": "code",
   "execution_count": 49,
   "metadata": {
    "ExecuteTime": {
     "end_time": "2020-12-10T20:38:03.914443Z",
     "start_time": "2020-12-10T20:38:03.801511Z"
    }
   },
   "outputs": [],
   "source": [
    "trial_w = trial_w.append(wind_table_02[wind_table_02['location'] == 'NorfolkIsland'])\n",
    "trial_w = trial_w.append(wind_table_03[wind_table_03['location'] == 'NorfolkIsland'])\n",
    "trial_w = trial_w.append(wind_table_04[wind_table_04['location'] == 'NorfolkIsland'])\n",
    "trial_w = trial_w.append(wind_table_05[wind_table_05['location'] == 'NorfolkIsland'])\n",
    "trial_w = trial_w.append(wind_table_06[wind_table_06['location'] == 'NorfolkIsland'])\n",
    "trial_w = trial_w.append(wind_table_07[wind_table_07['location'] == 'NorfolkIsland'])\n",
    "trial_w = trial_w.append(wind_table_08[wind_table_08['location'] == 'NorfolkIsland'])"
   ]
  },
  {
   "cell_type": "code",
   "execution_count": 50,
   "metadata": {
    "ExecuteTime": {
     "end_time": "2020-12-10T20:38:04.685285Z",
     "start_time": "2020-12-10T20:38:04.656299Z"
    }
   },
   "outputs": [],
   "source": [
    "trial_c = trial_r.merge(trial_w, left_on='date', right_on='date')"
   ]
  },
  {
   "cell_type": "code",
   "execution_count": 51,
   "metadata": {
    "ExecuteTime": {
     "end_time": "2020-12-10T20:38:05.529201Z",
     "start_time": "2020-12-10T20:38:05.516206Z"
    }
   },
   "outputs": [],
   "source": [
    "trial_c.drop('location', axis = 1, inplace = True)"
   ]
  },
  {
   "cell_type": "code",
   "execution_count": 52,
   "metadata": {
    "ExecuteTime": {
     "end_time": "2020-12-10T20:38:07.820470Z",
     "start_time": "2020-12-10T20:38:07.794489Z"
    }
   },
   "outputs": [
    {
     "name": "stdout",
     "output_type": "stream",
     "text": [
      "<class 'pandas.core.frame.DataFrame'>\n",
      "Int64Index: 3382 entries, 0 to 3381\n",
      "Data columns (total 20 columns):\n",
      " #   Column          Non-Null Count  Dtype  \n",
      "---  ------          --------------  -----  \n",
      " 0   date            3382 non-null   object \n",
      " 1   humidity3pm     3380 non-null   float64\n",
      " 2   humidity9am     3376 non-null   float64\n",
      " 3   pressure3pm     3380 non-null   float64\n",
      " 4   pressure9am     3373 non-null   float64\n",
      " 5   temp3pm         3380 non-null   float64\n",
      " 6   temp9am         3376 non-null   float64\n",
      " 7   raintomorrow    3382 non-null   object \n",
      " 8   wind_gustdir    829 non-null    object \n",
      " 9   wind_gustspeed  830 non-null    float64\n",
      " 10  wind_dir9am     821 non-null    object \n",
      " 11  wind_dir3pm     831 non-null    object \n",
      " 12  wind_speed9am   828 non-null    float64\n",
      " 13  wind_speed3pm   832 non-null    float64\n",
      " 14  windgustdir     2500 non-null   object \n",
      " 15  windgustspeed   2500 non-null   float64\n",
      " 16  winddir9am      2527 non-null   object \n",
      " 17  winddir3pm      2546 non-null   object \n",
      " 18  windspeed9am    2545 non-null   float64\n",
      " 19  windspeed3pm    2548 non-null   float64\n",
      "dtypes: float64(12), object(8)\n",
      "memory usage: 554.9+ KB\n"
     ]
    }
   ],
   "source": [
    "trial_c.info()"
   ]
  },
  {
   "cell_type": "code",
   "execution_count": 53,
   "metadata": {
    "ExecuteTime": {
     "end_time": "2020-12-10T20:38:11.970999Z",
     "start_time": "2020-12-10T20:38:10.441638Z"
    }
   },
   "outputs": [
    {
     "name": "stdout",
     "output_type": "stream",
     "text": [
      "humidity3pm      0.000591\n",
      "humidity9am      0.001774\n",
      "pressure3pm      0.000591\n",
      "pressure9am      0.002661\n",
      "temp3pm          0.000591\n",
      "temp9am          0.001774\n",
      "wind_speed9am    0.755174\n",
      "windspeed9am     0.247487\n",
      "wind_speed3pm    0.753992\n",
      "windspeed3pm     0.246600\n",
      "dtype: float64\n",
      "0.8104347826086956\n"
     ]
    }
   ],
   "source": [
    "X = trial_c[['humidity3pm', 'humidity9am', 'pressure3pm', 'pressure9am', 'temp3pm', 'temp9am', 'wind_speed9am', 'windspeed9am',\n",
    "            'wind_speed3pm', 'windspeed3pm']]\n",
    "y = trial_c['raintomorrow']\n",
    "                                      \n",
    "X_train, X_test, y_train, y_test = train_test_split(X, y, test_size=0.15, stratify=y)\n",
    "X_train, X_valid, y_train, y_valid = train_test_split(X_train, y_train, test_size=0.20, stratify=y_train)\n",
    "                                          \n",
    "cat_columns = list(X_train.select_dtypes('object').columns)\n",
    "num_columns = list(X_train.select_dtypes(exclude='object').columns)\n",
    "                                      \n",
    "dataprep = ColumnTransformer(transformers=[('numerical_transform', numerical_pipeline, num_columns),\n",
    "                                            ('categ_transform', categorical_pipeline, cat_columns)])\n",
    "    \n",
    "pipeline = Pipeline(steps=[('data', dataprep),\n",
    "                            ('scaler', StandardScaler()),\n",
    "                            ('model', model_lgbm)])\n",
    "                                      \n",
    "pipeline.fit(X_train, y_train)\n",
    "                                      \n",
    "prediction_v = pipeline.predict(X_valid)\n",
    "    \n",
    "score_v = pipeline.score(X_valid, y_valid)\n",
    "\n",
    "print(X.isna().mean())\n",
    "print(score_v)\n",
    "    "
   ]
  },
  {
   "cell_type": "code",
   "execution_count": 61,
   "metadata": {
    "ExecuteTime": {
     "end_time": "2020-12-10T21:04:13.046382Z",
     "start_time": "2020-12-10T21:02:11.737987Z"
    }
   },
   "outputs": [
    {
     "name": "stdout",
     "output_type": "stream",
     "text": [
      "Albury\n",
      "(3467, 21)\n",
      "0.8661016949152542\n",
      "BadgerysCreek\n",
      "(3371, 21)\n",
      "0.8900523560209425\n",
      "Cobar\n",
      "(3437, 21)\n",
      "0.9145299145299145\n",
      "CoffsHarbour\n",
      "(3414, 21)\n",
      "0.8175559380378657\n",
      "Moree\n",
      "(3315, 21)\n",
      "0.9060283687943262\n",
      "Newcastle\n",
      "(3402, 21)\n",
      "0.7996545768566494\n",
      "NorahHead\n",
      "(3390, 21)\n",
      "0.8318890814558059\n",
      "NorfolkIsland\n",
      "(3382, 21)\n",
      "0.8069565217391305\n",
      "Penrith\n",
      "(3414, 21)\n",
      "0.8691910499139415\n",
      "Richmond\n",
      "(3411, 21)\n",
      "0.8896551724137931\n",
      "Sydney\n",
      "(3798, 21)\n",
      "0.848297213622291\n",
      "SydneyAirport\n",
      "(3463, 21)\n",
      "0.8353140916808149\n",
      "WaggaWagga\n",
      "(3404, 21)\n",
      "0.9205526770293609\n",
      "Williamtown\n",
      "(2986, 21)\n",
      "0.8307086614173228\n",
      "Wollongong\n",
      "(3434, 21)\n",
      "0.8561643835616438\n",
      "Canberra\n",
      "(3877, 21)\n",
      "0.8679817905918058\n",
      "Tuggeranong\n",
      "(3455, 21)\n",
      "0.8724489795918368\n",
      "MountGinini\n",
      "(3367, 21)\n",
      "0.8202443280977313\n",
      "Ballarat\n",
      "(3489, 21)\n",
      "0.851602023608769\n",
      "Bendigo\n",
      "(3491, 21)\n",
      "0.8855218855218855\n",
      "Sale\n",
      "(3457, 21)\n",
      "0.8622448979591837\n",
      "MelbourneAirport\n",
      "(3470, 21)\n",
      "0.8661016949152542\n",
      "Melbourne\n",
      "(2857, 21)\n",
      "0.8148148148148148\n",
      "Mildura\n",
      "(3468, 21)\n",
      "0.9338983050847458\n",
      "Nhil\n",
      "(2031, 21)\n",
      "0.9335260115606936\n",
      "Portland\n",
      "(3456, 21)\n",
      "0.8554421768707483\n",
      "Watsonia\n",
      "(3455, 21)\n",
      "0.8554421768707483\n",
      "Dartmoor\n",
      "(3404, 21)\n",
      "0.8272884283246977\n",
      "Brisbane\n",
      "(3618, 21)\n",
      "0.8764227642276423\n",
      "Cairns\n",
      "(3402, 21)\n",
      "0.8048359240069085\n",
      "GoldCoast\n",
      "(3423, 21)\n",
      "0.8247422680412371\n",
      "Townsville\n",
      "(3489, 21)\n",
      "0.8920741989881956\n",
      "Adelaide\n",
      "(3549, 21)\n",
      "0.8923841059602649\n",
      "MountGambier\n",
      "(3482, 21)\n",
      "0.8445945945945946\n",
      "Nuriootpa\n",
      "(3461, 21)\n",
      "0.8930390492359932\n",
      "Woomera\n",
      "(3442, 21)\n",
      "0.9401709401709402\n",
      "Albany\n",
      "(3463, 21)\n",
      "0.8522920203735145\n",
      "Witchcliffe\n",
      "(3408, 21)\n",
      "0.8862068965517241\n",
      "PearceRAAF\n",
      "(3216, 21)\n",
      "0.8976234003656307\n",
      "PerthAirport\n",
      "(3471, 21)\n",
      "0.9186440677966101\n",
      "Perth\n",
      "(3655, 21)\n",
      "0.9115755627009646\n",
      "SalmonGums\n",
      "(3414, 21)\n",
      "0.8726333907056799\n",
      "Walpole\n",
      "(3266, 21)\n",
      "0.8597122302158273\n",
      "Hobart\n",
      "(3650, 21)\n",
      "0.8373590982286635\n",
      "Launceston\n",
      "(3486, 21)\n",
      "0.8532883642495784\n",
      "AliceSprings\n",
      "(3484, 21)\n",
      "0.9494097807757167\n",
      "Darwin\n",
      "(3653, 21)\n",
      "0.8631239935587761\n",
      "Katherine\n",
      "(2010, 21)\n",
      "0.9093567251461988\n",
      "Uluru\n",
      "(1979, 21)\n",
      "0.9673590504451038\n",
      "0.8709399518804436\n"
     ]
    }
   ],
   "source": [
    "prediction_r = []\n",
    "score_r =[]\n",
    "\n",
    "for i in cities:\n",
    "    \n",
    "    trial_r = rain[rain['location'] == i][['date', 'humidity3pm', 'humidity9am', 'pressure3pm', 'pressure9am', 'temp3pm', 'temp9am', 'raintomorrow']]\n",
    "    \n",
    "    trial_w = wind_table_01[wind_table_01['location'] == i]\n",
    "    trial_w = trial_w.append(wind_table_02[wind_table_02['location'] == i])\n",
    "    trial_w = trial_w.append(wind_table_03[wind_table_03['location'] == i])\n",
    "    trial_w = trial_w.append(wind_table_04[wind_table_04['location'] == i])\n",
    "    trial_w = trial_w.append(wind_table_05[wind_table_05['location'] == i])\n",
    "    trial_w = trial_w.append(wind_table_06[wind_table_06['location'] == i])\n",
    "    trial_w = trial_w.append(wind_table_07[wind_table_07['location'] == i])\n",
    "    trial_w = trial_w.append(wind_table_08[wind_table_08['location'] == i])\n",
    "    \n",
    "    trial_c = trial_r.merge(trial_w, left_on='date', right_on='date')\n",
    "    \n",
    "    \n",
    "    X = trial_c[['humidity3pm', 'humidity9am', 'pressure3pm', 'pressure9am', 'temp3pm', 'temp9am', 'wind_speed9am', 'windspeed9am',\n",
    "            'wind_speed3pm', 'windspeed3pm']]\n",
    "    y = trial_c['raintomorrow']\n",
    "                                      \n",
    "    X_train, X_test, y_train, y_test = train_test_split(X, y, test_size=0.15, stratify=y)\n",
    "    X_train, X_valid, y_train, y_valid = train_test_split(X_train, y_train, test_size=0.20, stratify=y_train)\n",
    "                                          \n",
    "    cat_columns = list(X_train.select_dtypes('object').columns)\n",
    "    num_columns = list(X_train.select_dtypes(exclude='object').columns)\n",
    "                                      \n",
    "    dataprep = ColumnTransformer(transformers=[('numerical_transform', numerical_pipeline, num_columns),\n",
    "                                                ('categ_transform', categorical_pipeline, cat_columns)])\n",
    "    \n",
    "    pipeline = Pipeline(steps=[('data', dataprep),\n",
    "                                ('scaler', StandardScaler()),\n",
    "                                ('model', model_lgbm)])\n",
    "                                      \n",
    "    pipeline.fit(X_train, y_train)\n",
    "                                      \n",
    "    prediction_v = pipeline.predict(X_valid)\n",
    "    \n",
    "    score_v = pipeline.score(X_valid, y_valid)\n",
    "\n",
    "    print(i)\n",
    "    print(trial_c.shape)\n",
    "    print(score_v)\n",
    "    score_r.append(score_v)\n",
    "    \n",
    "print(sum(score_r)/len(score_r))\n"
   ]
  },
  {
   "cell_type": "code",
   "execution_count": 59,
   "metadata": {
    "ExecuteTime": {
     "end_time": "2020-12-10T20:57:01.682253Z",
     "start_time": "2020-12-10T20:57:01.311317Z"
    }
   },
   "outputs": [
    {
     "data": {
      "text/html": [
       "<div>\n",
       "<style scoped>\n",
       "    .dataframe tbody tr th:only-of-type {\n",
       "        vertical-align: middle;\n",
       "    }\n",
       "\n",
       "    .dataframe tbody tr th {\n",
       "        vertical-align: top;\n",
       "    }\n",
       "\n",
       "    .dataframe thead th {\n",
       "        text-align: right;\n",
       "    }\n",
       "</style>\n",
       "<table border=\"1\" class=\"dataframe\">\n",
       "  <thead>\n",
       "    <tr style=\"text-align: right;\">\n",
       "      <th></th>\n",
       "      <th>date</th>\n",
       "      <th>location</th>\n",
       "      <th>mintemp</th>\n",
       "      <th>maxtemp</th>\n",
       "      <th>rainfall</th>\n",
       "      <th>evaporation</th>\n",
       "      <th>sunshine</th>\n",
       "      <th>humidity9am</th>\n",
       "      <th>humidity3pm</th>\n",
       "      <th>pressure9am</th>\n",
       "      <th>...</th>\n",
       "      <th>temp9am</th>\n",
       "      <th>temp3pm</th>\n",
       "      <th>raintoday</th>\n",
       "      <th>amountOfRain</th>\n",
       "      <th>raintomorrow</th>\n",
       "      <th>temp</th>\n",
       "      <th>humidity</th>\n",
       "      <th>precipitation3pm</th>\n",
       "      <th>precipitation9am</th>\n",
       "      <th>modelo_vigente</th>\n",
       "    </tr>\n",
       "  </thead>\n",
       "  <tbody>\n",
       "    <tr>\n",
       "      <th>140672</th>\n",
       "      <td>2013-03-01</td>\n",
       "      <td>Uluru</td>\n",
       "      <td>19.7</td>\n",
       "      <td>30.0</td>\n",
       "      <td>0.8</td>\n",
       "      <td>NaN</td>\n",
       "      <td>NaN</td>\n",
       "      <td>76.0</td>\n",
       "      <td>54.0</td>\n",
       "      <td>1010.6</td>\n",
       "      <td>...</td>\n",
       "      <td>21.7</td>\n",
       "      <td>28.4</td>\n",
       "      <td>No</td>\n",
       "      <td>0.0</td>\n",
       "      <td>No</td>\n",
       "      <td>38.000000</td>\n",
       "      <td>66.8</td>\n",
       "      <td>10</td>\n",
       "      <td>5.880475</td>\n",
       "      <td>0.209739</td>\n",
       "    </tr>\n",
       "    <tr>\n",
       "      <th>140673</th>\n",
       "      <td>2013-03-02</td>\n",
       "      <td>Uluru</td>\n",
       "      <td>21.6</td>\n",
       "      <td>33.1</td>\n",
       "      <td>0.0</td>\n",
       "      <td>NaN</td>\n",
       "      <td>NaN</td>\n",
       "      <td>44.0</td>\n",
       "      <td>33.0</td>\n",
       "      <td>1010.5</td>\n",
       "      <td>...</td>\n",
       "      <td>24.6</td>\n",
       "      <td>31.3</td>\n",
       "      <td>No</td>\n",
       "      <td>0.0</td>\n",
       "      <td>No</td>\n",
       "      <td>41.720000</td>\n",
       "      <td>41.6</td>\n",
       "      <td>9</td>\n",
       "      <td>18.827567</td>\n",
       "      <td>0.065101</td>\n",
       "    </tr>\n",
       "    <tr>\n",
       "      <th>140674</th>\n",
       "      <td>2013-03-03</td>\n",
       "      <td>Uluru</td>\n",
       "      <td>21.3</td>\n",
       "      <td>36.1</td>\n",
       "      <td>0.0</td>\n",
       "      <td>NaN</td>\n",
       "      <td>NaN</td>\n",
       "      <td>39.0</td>\n",
       "      <td>27.0</td>\n",
       "      <td>1006.9</td>\n",
       "      <td>...</td>\n",
       "      <td>27.6</td>\n",
       "      <td>34.5</td>\n",
       "      <td>No</td>\n",
       "      <td>0.0</td>\n",
       "      <td>No</td>\n",
       "      <td>45.320000</td>\n",
       "      <td>34.4</td>\n",
       "      <td>8</td>\n",
       "      <td>9.866962</td>\n",
       "      <td>0.113213</td>\n",
       "    </tr>\n",
       "    <tr>\n",
       "      <th>140675</th>\n",
       "      <td>2013-03-04</td>\n",
       "      <td>Uluru</td>\n",
       "      <td>22.9</td>\n",
       "      <td>37.7</td>\n",
       "      <td>0.0</td>\n",
       "      <td>NaN</td>\n",
       "      <td>NaN</td>\n",
       "      <td>35.0</td>\n",
       "      <td>22.0</td>\n",
       "      <td>1006.0</td>\n",
       "      <td>...</td>\n",
       "      <td>28.7</td>\n",
       "      <td>35.4</td>\n",
       "      <td>No</td>\n",
       "      <td>0.0</td>\n",
       "      <td>No</td>\n",
       "      <td>47.240000</td>\n",
       "      <td>28.4</td>\n",
       "      <td>12</td>\n",
       "      <td>4.934891</td>\n",
       "      <td>0.137201</td>\n",
       "    </tr>\n",
       "    <tr>\n",
       "      <th>140676</th>\n",
       "      <td>2013-03-05</td>\n",
       "      <td>Uluru</td>\n",
       "      <td>24.0</td>\n",
       "      <td>39.0</td>\n",
       "      <td>0.0</td>\n",
       "      <td>NaN</td>\n",
       "      <td>NaN</td>\n",
       "      <td>33.0</td>\n",
       "      <td>21.0</td>\n",
       "      <td>1006.9</td>\n",
       "      <td>...</td>\n",
       "      <td>29.9</td>\n",
       "      <td>37.3</td>\n",
       "      <td>No</td>\n",
       "      <td>0.0</td>\n",
       "      <td>No</td>\n",
       "      <td>2.189369</td>\n",
       "      <td>27.2</td>\n",
       "      <td>7</td>\n",
       "      <td>5.248826</td>\n",
       "      <td>0.067973</td>\n",
       "    </tr>\n",
       "    <tr>\n",
       "      <th>...</th>\n",
       "      <td>...</td>\n",
       "      <td>...</td>\n",
       "      <td>...</td>\n",
       "      <td>...</td>\n",
       "      <td>...</td>\n",
       "      <td>...</td>\n",
       "      <td>...</td>\n",
       "      <td>...</td>\n",
       "      <td>...</td>\n",
       "      <td>...</td>\n",
       "      <td>...</td>\n",
       "      <td>...</td>\n",
       "      <td>...</td>\n",
       "      <td>...</td>\n",
       "      <td>...</td>\n",
       "      <td>...</td>\n",
       "      <td>...</td>\n",
       "      <td>...</td>\n",
       "      <td>...</td>\n",
       "      <td>...</td>\n",
       "      <td>...</td>\n",
       "    </tr>\n",
       "    <tr>\n",
       "      <th>142188</th>\n",
       "      <td>2017-06-20</td>\n",
       "      <td>Uluru</td>\n",
       "      <td>3.5</td>\n",
       "      <td>21.8</td>\n",
       "      <td>0.0</td>\n",
       "      <td>NaN</td>\n",
       "      <td>NaN</td>\n",
       "      <td>59.0</td>\n",
       "      <td>27.0</td>\n",
       "      <td>1024.7</td>\n",
       "      <td>...</td>\n",
       "      <td>9.4</td>\n",
       "      <td>20.9</td>\n",
       "      <td>No</td>\n",
       "      <td>0.0</td>\n",
       "      <td>No</td>\n",
       "      <td>28.160000</td>\n",
       "      <td>34.4</td>\n",
       "      <td>12</td>\n",
       "      <td>5.848681</td>\n",
       "      <td>0.002556</td>\n",
       "    </tr>\n",
       "    <tr>\n",
       "      <th>142189</th>\n",
       "      <td>2017-06-21</td>\n",
       "      <td>Uluru</td>\n",
       "      <td>2.8</td>\n",
       "      <td>23.4</td>\n",
       "      <td>0.0</td>\n",
       "      <td>NaN</td>\n",
       "      <td>NaN</td>\n",
       "      <td>51.0</td>\n",
       "      <td>24.0</td>\n",
       "      <td>1024.6</td>\n",
       "      <td>...</td>\n",
       "      <td>10.1</td>\n",
       "      <td>22.4</td>\n",
       "      <td>No</td>\n",
       "      <td>0.0</td>\n",
       "      <td>No</td>\n",
       "      <td>30.080000</td>\n",
       "      <td>30.8</td>\n",
       "      <td>10</td>\n",
       "      <td>6.653879</td>\n",
       "      <td>0.002053</td>\n",
       "    </tr>\n",
       "    <tr>\n",
       "      <th>142190</th>\n",
       "      <td>2017-06-22</td>\n",
       "      <td>Uluru</td>\n",
       "      <td>3.6</td>\n",
       "      <td>25.3</td>\n",
       "      <td>0.0</td>\n",
       "      <td>NaN</td>\n",
       "      <td>NaN</td>\n",
       "      <td>56.0</td>\n",
       "      <td>21.0</td>\n",
       "      <td>1023.5</td>\n",
       "      <td>...</td>\n",
       "      <td>10.9</td>\n",
       "      <td>24.5</td>\n",
       "      <td>No</td>\n",
       "      <td>0.0</td>\n",
       "      <td>No</td>\n",
       "      <td>32.360000</td>\n",
       "      <td>27.2</td>\n",
       "      <td>9</td>\n",
       "      <td>19.715976</td>\n",
       "      <td>0.023350</td>\n",
       "    </tr>\n",
       "    <tr>\n",
       "      <th>142191</th>\n",
       "      <td>2017-06-23</td>\n",
       "      <td>Uluru</td>\n",
       "      <td>5.4</td>\n",
       "      <td>26.9</td>\n",
       "      <td>0.0</td>\n",
       "      <td>NaN</td>\n",
       "      <td>NaN</td>\n",
       "      <td>53.0</td>\n",
       "      <td>24.0</td>\n",
       "      <td>1021.0</td>\n",
       "      <td>...</td>\n",
       "      <td>12.5</td>\n",
       "      <td>26.1</td>\n",
       "      <td>No</td>\n",
       "      <td>0.0</td>\n",
       "      <td>No</td>\n",
       "      <td>34.280000</td>\n",
       "      <td>30.8</td>\n",
       "      <td>12</td>\n",
       "      <td>0.985551</td>\n",
       "      <td>0.007195</td>\n",
       "    </tr>\n",
       "    <tr>\n",
       "      <th>142192</th>\n",
       "      <td>2017-06-24</td>\n",
       "      <td>Uluru</td>\n",
       "      <td>7.8</td>\n",
       "      <td>27.0</td>\n",
       "      <td>0.0</td>\n",
       "      <td>NaN</td>\n",
       "      <td>NaN</td>\n",
       "      <td>51.0</td>\n",
       "      <td>24.0</td>\n",
       "      <td>1019.4</td>\n",
       "      <td>...</td>\n",
       "      <td>15.1</td>\n",
       "      <td>26.0</td>\n",
       "      <td>No</td>\n",
       "      <td>0.0</td>\n",
       "      <td>No</td>\n",
       "      <td>34.400000</td>\n",
       "      <td>30.8</td>\n",
       "      <td>15</td>\n",
       "      <td>4.381481</td>\n",
       "      <td>0.018811</td>\n",
       "    </tr>\n",
       "  </tbody>\n",
       "</table>\n",
       "<p>1521 rows × 23 columns</p>\n",
       "</div>"
      ],
      "text/plain": [
       "              date location  mintemp  maxtemp  rainfall  evaporation  \\\n",
       "140672  2013-03-01    Uluru     19.7     30.0       0.8          NaN   \n",
       "140673  2013-03-02    Uluru     21.6     33.1       0.0          NaN   \n",
       "140674  2013-03-03    Uluru     21.3     36.1       0.0          NaN   \n",
       "140675  2013-03-04    Uluru     22.9     37.7       0.0          NaN   \n",
       "140676  2013-03-05    Uluru     24.0     39.0       0.0          NaN   \n",
       "...            ...      ...      ...      ...       ...          ...   \n",
       "142188  2017-06-20    Uluru      3.5     21.8       0.0          NaN   \n",
       "142189  2017-06-21    Uluru      2.8     23.4       0.0          NaN   \n",
       "142190  2017-06-22    Uluru      3.6     25.3       0.0          NaN   \n",
       "142191  2017-06-23    Uluru      5.4     26.9       0.0          NaN   \n",
       "142192  2017-06-24    Uluru      7.8     27.0       0.0          NaN   \n",
       "\n",
       "        sunshine  humidity9am  humidity3pm  pressure9am  ...  temp9am  \\\n",
       "140672       NaN         76.0         54.0       1010.6  ...     21.7   \n",
       "140673       NaN         44.0         33.0       1010.5  ...     24.6   \n",
       "140674       NaN         39.0         27.0       1006.9  ...     27.6   \n",
       "140675       NaN         35.0         22.0       1006.0  ...     28.7   \n",
       "140676       NaN         33.0         21.0       1006.9  ...     29.9   \n",
       "...          ...          ...          ...          ...  ...      ...   \n",
       "142188       NaN         59.0         27.0       1024.7  ...      9.4   \n",
       "142189       NaN         51.0         24.0       1024.6  ...     10.1   \n",
       "142190       NaN         56.0         21.0       1023.5  ...     10.9   \n",
       "142191       NaN         53.0         24.0       1021.0  ...     12.5   \n",
       "142192       NaN         51.0         24.0       1019.4  ...     15.1   \n",
       "\n",
       "        temp3pm  raintoday  amountOfRain  raintomorrow       temp  humidity  \\\n",
       "140672     28.4         No           0.0            No  38.000000      66.8   \n",
       "140673     31.3         No           0.0            No  41.720000      41.6   \n",
       "140674     34.5         No           0.0            No  45.320000      34.4   \n",
       "140675     35.4         No           0.0            No  47.240000      28.4   \n",
       "140676     37.3         No           0.0            No   2.189369      27.2   \n",
       "...         ...        ...           ...           ...        ...       ...   \n",
       "142188     20.9         No           0.0            No  28.160000      34.4   \n",
       "142189     22.4         No           0.0            No  30.080000      30.8   \n",
       "142190     24.5         No           0.0            No  32.360000      27.2   \n",
       "142191     26.1         No           0.0            No  34.280000      30.8   \n",
       "142192     26.0         No           0.0            No  34.400000      30.8   \n",
       "\n",
       "       precipitation3pm  precipitation9am  modelo_vigente  \n",
       "140672               10          5.880475        0.209739  \n",
       "140673                9         18.827567        0.065101  \n",
       "140674                8          9.866962        0.113213  \n",
       "140675               12          4.934891        0.137201  \n",
       "140676                7          5.248826        0.067973  \n",
       "...                 ...               ...             ...  \n",
       "142188               12          5.848681        0.002556  \n",
       "142189               10          6.653879        0.002053  \n",
       "142190                9         19.715976        0.023350  \n",
       "142191               12          0.985551        0.007195  \n",
       "142192               15          4.381481        0.018811  \n",
       "\n",
       "[1521 rows x 23 columns]"
      ]
     },
     "execution_count": 59,
     "metadata": {},
     "output_type": "execute_result"
    }
   ],
   "source": [
    "rain[rain['location'] == 'Uluru']"
   ]
  },
  {
   "cell_type": "code",
   "execution_count": 64,
   "metadata": {
    "ExecuteTime": {
     "end_time": "2020-12-10T21:05:59.341684Z",
     "start_time": "2020-12-10T21:05:59.278721Z"
    }
   },
   "outputs": [
    {
     "data": {
      "text/plain": [
       "No     2045\n",
       "Yes     919\n",
       "Name: raintomorrow, dtype: int64"
      ]
     },
     "execution_count": 64,
     "metadata": {},
     "output_type": "execute_result"
    }
   ],
   "source": [
    "rain[rain['location'] == 'NorfolkIsland']['raintomorrow'].value_counts()"
   ]
  }
 ],
 "metadata": {
  "kernelspec": {
   "display_name": "Python 3",
   "language": "python",
   "name": "python3"
  },
  "language_info": {
   "codemirror_mode": {
    "name": "ipython",
    "version": 3
   },
   "file_extension": ".py",
   "mimetype": "text/x-python",
   "name": "python",
   "nbconvert_exporter": "python",
   "pygments_lexer": "ipython3",
   "version": "3.8.3"
  }
 },
 "nbformat": 4,
 "nbformat_minor": 4
}
